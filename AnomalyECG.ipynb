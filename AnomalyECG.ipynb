{
  "nbformat": 4,
  "nbformat_minor": 0,
  "metadata": {
    "colab": {
      "private_outputs": true,
      "provenance": []
    },
    "kernelspec": {
      "name": "python3",
      "display_name": "Python 3"
    },
    "language_info": {
      "name": "python"
    }
  },
  "cells": [
    {
      "cell_type": "code",
      "execution_count": null,
      "metadata": {
        "id": "CpHTu8JsFPp0"
      },
      "outputs": [],
      "source": [
        "import numpy as np\n",
        "import pandas as pd\n",
        "import tensorflow as tf\n",
        "from tensorflow.keras import Model,Sequential\n",
        "from tensorflow.keras.layers import Dense,Dropout\n",
        "from tensorflow.keras.optimizers import Adam\n",
        "from tensorflow.keras.losses import MeanSquaredLogarithmicError\n",
        "import matplotlib.pyplot as plt\n",
        "from sklearn.preprocessing import MinMaxScaler\n",
        "from sklearn.model_selection import train_test_split\n",
        "from sklearn.metrics import accuracy_score\n"
      ]
    },
    {
      "cell_type": "code",
      "source": [
        "data=pd.read_csv('ecg.csv',header=None)\n",
        "data.dropna(inplace=True)"
      ],
      "metadata": {
        "id": "xmi9iCYFGECu"
      },
      "execution_count": null,
      "outputs": []
    },
    {
      "cell_type": "code",
      "source": [
        "features = data.drop(140, axis=1)\n",
        "target = data[140]\n",
        "x_train, x_test, y_train, y_test = train_test_split(\n",
        "    features, target, test_size=0.2, stratify=target\n",
        ")\n",
        "\n"
      ],
      "metadata": {
        "id": "AWWHcW8YGEE5"
      },
      "execution_count": null,
      "outputs": []
    },
    {
      "cell_type": "code",
      "source": [
        "train_index=y_train[y_train==1].index\n",
        "train_data=x_train.loc[train_index]"
      ],
      "metadata": {
        "id": "UtmZbJGpHcvj"
      },
      "execution_count": null,
      "outputs": []
    },
    {
      "cell_type": "code",
      "source": [
        "train_data"
      ],
      "metadata": {
        "id": "dk0LJHWsHnAj"
      },
      "execution_count": null,
      "outputs": []
    },
    {
      "cell_type": "code",
      "source": [
        "mm=MinMaxScaler()\n",
        "x_train_scaled=mm.fit_transform(train_data.copy())\n",
        "x_test_Scaled=mm.fit_transform(x_test.copy())"
      ],
      "metadata": {
        "id": "gJZS0nbfHnDL"
      },
      "execution_count": null,
      "outputs": []
    },
    {
      "cell_type": "code",
      "source": [
        "ldim=32\n",
        "output_units=x_train_scaled.shape[1]\n",
        "encoder = Sequential([\n",
        "      Dense(64, activation='relu'),\n",
        "      Dropout(0.1),\n",
        "      Dense(32, activation='relu'),\n",
        "      Dropout(0.1),\n",
        "      Dense(16, activation='relu'),\n",
        "      Dropout(0.1),\n",
        "      Dense(ldim, activation='relu')\n",
        "    ])\n",
        "decoder = Sequential([\n",
        "      Dense(16, activation='relu'),\n",
        "      Dropout(0.1),\n",
        "      Dense(32, activation='relu'),\n",
        "      Dropout(0.1),\n",
        "      Dense(64, activation='relu'),\n",
        "      Dropout(0.1),\n",
        "      Dense(output_units, activation='sigmoid')\n",
        "    ])"
      ],
      "metadata": {
        "id": "4pLS_Af9H90k"
      },
      "execution_count": null,
      "outputs": []
    },
    {
      "cell_type": "code",
      "source": [
        "model = Sequential([\n",
        "    encoder,\n",
        "    decoder,\n",
        "])"
      ],
      "metadata": {
        "id": "7MTebXb6H92v"
      },
      "execution_count": null,
      "outputs": []
    },
    {
      "cell_type": "code",
      "source": [
        "model.compile(loss='msle', metrics=['mse'], optimizer='adam')"
      ],
      "metadata": {
        "id": "NpFJ6FlvH94a"
      },
      "execution_count": null,
      "outputs": []
    },
    {
      "cell_type": "code",
      "source": [
        "epochs = 20\n",
        "\n",
        "history = model.fit(\n",
        "    x_train_scaled,\n",
        "    x_train_scaled,\n",
        "    epochs=epochs,\n",
        "    batch_size=512,\n",
        "    validation_data=(x_test_Scaled, x_test_Scaled)\n",
        ")"
      ],
      "metadata": {
        "id": "ebMyIZ-DH96G"
      },
      "execution_count": null,
      "outputs": []
    },
    {
      "cell_type": "code",
      "source": [
        "plt.plot(history.history['loss'])\n",
        "plt.plot(history.history['val_loss'])\n",
        "plt.xlabel('Epochs')\n",
        "plt.ylabel('MSLE Loss')\n",
        "plt.legend()\n",
        "plt.show()"
      ],
      "metadata": {
        "id": "_NecNi3iJZ7S"
      },
      "execution_count": null,
      "outputs": []
    },
    {
      "cell_type": "code",
      "source": [
        "decoded_data = model.predict(x_test_Scaled)\n",
        "mse = np.mean(np.power(x_test_Scaled - decoded_data, 2), axis=1)\n",
        "threshold = np.percentile(mse, 95)"
      ],
      "metadata": {
        "id": "GObr-PdEKFa1"
      },
      "execution_count": null,
      "outputs": []
    },
    {
      "cell_type": "code",
      "source": [
        "outliers = mse > threshold"
      ],
      "metadata": {
        "id": "4kU9S22EKcRj"
      },
      "execution_count": null,
      "outputs": []
    },
    {
      "cell_type": "code",
      "source": [
        "num_outliers = np.sum(outliers)\n",
        "num_anomalies = np.sum(y_test[outliers] == 1)  # Assuming 1 represents the positive class\n",
        "\n",
        "print(f'Number of outliers: {num_outliers}')\n",
        "print(f'Number of anomalies: {num_anomalies}')"
      ],
      "metadata": {
        "id": "Y6gxb2pGKfil"
      },
      "execution_count": null,
      "outputs": []
    }
  ]
}
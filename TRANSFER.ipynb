{
  "cells": [
    {
      "cell_type": "markdown",
      "metadata": {
        "id": "kgH1ppocjoe-"
      },
      "source": [
        "#### Importing the libraries"
      ],
      "id": "kgH1ppocjoe-"
    },
    {
      "cell_type": "markdown",
      "metadata": {
        "id": "QMc7phTejoe4"
      },
      "source": [
        "## Assignment 6\n",
        "    1. Name: Amar Dalvi\n",
        "    2. Batch: P-10\n",
        "    3. Roll No.: 43218\n",
        "    \n",
        "   ### Problem Statement :\n",
        "     Object detection using Transfer Learning of CNN architectures"
      ],
      "id": "QMc7phTejoe4"
    },
    {
      "cell_type": "code",
      "execution_count": 1,
      "metadata": {
        "id": "T016duGtjoe_",
        "outputId": "003fae3f-9b94-4561-912b-4b728e63c35d",
        "colab": {
          "base_uri": "https://localhost:8080/",
          "height": 35
        }
      },
      "outputs": [
        {
          "output_type": "execute_result",
          "data": {
            "text/plain": [
              "'2.14.0'"
            ],
            "application/vnd.google.colaboratory.intrinsic+json": {
              "type": "string"
            }
          },
          "metadata": {},
          "execution_count": 1
        }
      ],
      "source": [
        "import tensorflow as tf\n",
        "import numpy as np\n",
        "import matplotlib.pyplot as plt\n",
        "tf.__version__"
      ],
      "id": "T016duGtjoe_"
    },
    {
      "cell_type": "markdown",
      "metadata": {
        "id": "Jg-GX9oSjofC"
      },
      "source": [
        "#### Preprocessing for dataset"
      ],
      "id": "Jg-GX9oSjofC"
    },
    {
      "cell_type": "code",
      "execution_count": 2,
      "metadata": {
        "id": "6gwmIZ5HjofC"
      },
      "outputs": [],
      "source": [
        "img_generator = tf.keras.preprocessing.image.ImageDataGenerator(#rotation_range=90,\n",
        "                                                                brightness_range=(0.5,1),\n",
        "                                                                #shear_range=0.2,\n",
        "                                                                #zoom_range=0.2,\n",
        "                                                                channel_shift_range=0.2,\n",
        "                                                                horizontal_flip=True,\n",
        "                                                                vertical_flip=True,\n",
        "                                                                rescale=1./255,\n",
        "                                                                validation_split=0.3)"
      ],
      "id": "6gwmIZ5HjofC"
    },
    {
      "cell_type": "code",
      "execution_count": 3,
      "metadata": {
        "id": "stBULliPjofD",
        "outputId": "606fc14e-fa94-473e-ab5d-34420986e65b",
        "colab": {
          "base_uri": "https://localhost:8080/",
          "height": 408
        }
      },
      "outputs": [
        {
          "output_type": "error",
          "ename": "FileNotFoundError",
          "evalue": "ignored",
          "traceback": [
            "\u001b[0;31m---------------------------------------------------------------------------\u001b[0m",
            "\u001b[0;31mFileNotFoundError\u001b[0m                         Traceback (most recent call last)",
            "\u001b[0;32m<ipython-input-3-ae8e8c1696be>\u001b[0m in \u001b[0;36m<cell line: 2>\u001b[0;34m()\u001b[0m\n\u001b[1;32m      1\u001b[0m \u001b[0mroot_dir\u001b[0m \u001b[0;34m=\u001b[0m \u001b[0;34m'101_ObjectCategories'\u001b[0m\u001b[0;34m\u001b[0m\u001b[0;34m\u001b[0m\u001b[0m\n\u001b[0;32m----> 2\u001b[0;31m img_generator_flow_train = img_generator.flow_from_directory(\n\u001b[0m\u001b[1;32m      3\u001b[0m     \u001b[0mdirectory\u001b[0m\u001b[0;34m=\u001b[0m\u001b[0mroot_dir\u001b[0m\u001b[0;34m,\u001b[0m\u001b[0;34m\u001b[0m\u001b[0;34m\u001b[0m\u001b[0m\n\u001b[1;32m      4\u001b[0m     \u001b[0mtarget_size\u001b[0m\u001b[0;34m=\u001b[0m\u001b[0;34m(\u001b[0m\u001b[0;36m224\u001b[0m\u001b[0;34m,\u001b[0m \u001b[0;36m224\u001b[0m\u001b[0;34m)\u001b[0m\u001b[0;34m,\u001b[0m\u001b[0;34m\u001b[0m\u001b[0;34m\u001b[0m\u001b[0m\n\u001b[1;32m      5\u001b[0m     \u001b[0mbatch_size\u001b[0m\u001b[0;34m=\u001b[0m\u001b[0;36m32\u001b[0m\u001b[0;34m,\u001b[0m\u001b[0;34m\u001b[0m\u001b[0;34m\u001b[0m\u001b[0m\n",
            "\u001b[0;32m/usr/local/lib/python3.10/dist-packages/keras/src/preprocessing/image.py\u001b[0m in \u001b[0;36mflow_from_directory\u001b[0;34m(self, directory, target_size, color_mode, classes, class_mode, batch_size, shuffle, seed, save_to_dir, save_prefix, save_format, follow_links, subset, interpolation, keep_aspect_ratio)\u001b[0m\n\u001b[1;32m   1647\u001b[0m             \u001b[0;32mand\u001b[0m\u001b[0;31m \u001b[0m\u001b[0;31m`\u001b[0m\u001b[0my\u001b[0m\u001b[0;31m`\u001b[0m \u001b[0;32mis\u001b[0m \u001b[0ma\u001b[0m \u001b[0mnumpy\u001b[0m \u001b[0marray\u001b[0m \u001b[0mof\u001b[0m \u001b[0mcorresponding\u001b[0m \u001b[0mlabels\u001b[0m\u001b[0;34m.\u001b[0m\u001b[0;34m\u001b[0m\u001b[0;34m\u001b[0m\u001b[0m\n\u001b[1;32m   1648\u001b[0m         \"\"\"\n\u001b[0;32m-> 1649\u001b[0;31m         return DirectoryIterator(\n\u001b[0m\u001b[1;32m   1650\u001b[0m             \u001b[0mdirectory\u001b[0m\u001b[0;34m,\u001b[0m\u001b[0;34m\u001b[0m\u001b[0;34m\u001b[0m\u001b[0m\n\u001b[1;32m   1651\u001b[0m             \u001b[0mself\u001b[0m\u001b[0;34m,\u001b[0m\u001b[0;34m\u001b[0m\u001b[0;34m\u001b[0m\u001b[0m\n",
            "\u001b[0;32m/usr/local/lib/python3.10/dist-packages/keras/src/preprocessing/image.py\u001b[0m in \u001b[0;36m__init__\u001b[0;34m(self, directory, image_data_generator, target_size, color_mode, classes, class_mode, batch_size, shuffle, seed, data_format, save_to_dir, save_prefix, save_format, follow_links, subset, interpolation, keep_aspect_ratio, dtype)\u001b[0m\n\u001b[1;32m    561\u001b[0m         \u001b[0;32mif\u001b[0m \u001b[0;32mnot\u001b[0m \u001b[0mclasses\u001b[0m\u001b[0;34m:\u001b[0m\u001b[0;34m\u001b[0m\u001b[0;34m\u001b[0m\u001b[0m\n\u001b[1;32m    562\u001b[0m             \u001b[0mclasses\u001b[0m \u001b[0;34m=\u001b[0m \u001b[0;34m[\u001b[0m\u001b[0;34m]\u001b[0m\u001b[0;34m\u001b[0m\u001b[0;34m\u001b[0m\u001b[0m\n\u001b[0;32m--> 563\u001b[0;31m             \u001b[0;32mfor\u001b[0m \u001b[0msubdir\u001b[0m \u001b[0;32min\u001b[0m \u001b[0msorted\u001b[0m\u001b[0;34m(\u001b[0m\u001b[0mos\u001b[0m\u001b[0;34m.\u001b[0m\u001b[0mlistdir\u001b[0m\u001b[0;34m(\u001b[0m\u001b[0mdirectory\u001b[0m\u001b[0;34m)\u001b[0m\u001b[0;34m)\u001b[0m\u001b[0;34m:\u001b[0m\u001b[0;34m\u001b[0m\u001b[0;34m\u001b[0m\u001b[0m\n\u001b[0m\u001b[1;32m    564\u001b[0m                 \u001b[0;32mif\u001b[0m \u001b[0mos\u001b[0m\u001b[0;34m.\u001b[0m\u001b[0mpath\u001b[0m\u001b[0;34m.\u001b[0m\u001b[0misdir\u001b[0m\u001b[0;34m(\u001b[0m\u001b[0mos\u001b[0m\u001b[0;34m.\u001b[0m\u001b[0mpath\u001b[0m\u001b[0;34m.\u001b[0m\u001b[0mjoin\u001b[0m\u001b[0;34m(\u001b[0m\u001b[0mdirectory\u001b[0m\u001b[0;34m,\u001b[0m \u001b[0msubdir\u001b[0m\u001b[0;34m)\u001b[0m\u001b[0;34m)\u001b[0m\u001b[0;34m:\u001b[0m\u001b[0;34m\u001b[0m\u001b[0;34m\u001b[0m\u001b[0m\n\u001b[1;32m    565\u001b[0m                     \u001b[0mclasses\u001b[0m\u001b[0;34m.\u001b[0m\u001b[0mappend\u001b[0m\u001b[0;34m(\u001b[0m\u001b[0msubdir\u001b[0m\u001b[0;34m)\u001b[0m\u001b[0;34m\u001b[0m\u001b[0;34m\u001b[0m\u001b[0m\n",
            "\u001b[0;31mFileNotFoundError\u001b[0m: [Errno 2] No such file or directory: '101_ObjectCategories'"
          ]
        }
      ],
      "source": [
        "root_dir = '101_ObjectCategories'\n",
        "train = img_generator.flow_from_directory(\n",
        "    directory=root_dir,\n",
        "    target_size=(224, 224),\n",
        "    batch_size=32,\n",
        "    shuffle=True,\n",
        "    subset=\"training\")\n",
        "\n",
        "valid = img_generator.flow_from_directory(\n",
        "    directory=root_dir,\n",
        "    target_size=(224, 224),\n",
        "    batch_size=32,\n",
        "    shuffle=True,\n",
        "    subset=\"validation\")"
      ],
      "id": "stBULliPjofD"
    },
    {
      "cell_type": "code",
      "execution_count": null,
      "metadata": {
        "id": "KeYL0w-NjofE"
      },
      "outputs": [],
      "source": [
        "imgs, labels = next(iter(train))\n",
        "for img, label in zip(imgs, labels):\n",
        "    plt.imshow(img)\n",
        "    plt.show()"
      ],
      "id": "KeYL0w-NjofE"
    },
    {
      "cell_type": "markdown",
      "metadata": {
        "id": "FuTaxSaHjofE"
      },
      "source": [
        "#### a. Load in a pretrained model (InceptionV3)"
      ],
      "id": "FuTaxSaHjofE"
    },
    {
      "cell_type": "code",
      "execution_count": null,
      "metadata": {
        "id": "Qcp9IeGfjofF"
      },
      "outputs": [],
      "source": [
        "base_model = tf.keras.applications.InceptionV3(input_shape=(224,224,3),\n",
        "                                               include_top=False,\n",
        "                                               weights = \"imagenet\"\n",
        "                                               )"
      ],
      "id": "Qcp9IeGfjofF"
    },
    {
      "cell_type": "markdown",
      "metadata": {
        "id": "SUo80tBLjofF"
      },
      "source": [
        "#### b. Freeze parameters (weights) in model’s lower convolutional layers"
      ],
      "id": "SUo80tBLjofF"
    },
    {
      "cell_type": "code",
      "execution_count": null,
      "metadata": {
        "id": "pFetHLsZjofG"
      },
      "outputs": [],
      "source": [
        "base_model.trainable = False"
      ],
      "id": "pFetHLsZjofG"
    },
    {
      "cell_type": "markdown",
      "metadata": {
        "id": "dLTU8KKLjofG"
      },
      "source": [
        "####  c. Add custom classifier with several layers of trainable parameters to model"
      ],
      "id": "dLTU8KKLjofG"
    },
    {
      "cell_type": "code",
      "execution_count": null,
      "metadata": {
        "id": "rvvhHKH-jofG"
      },
      "outputs": [],
      "source": [
        "model = tf.keras.Sequential([\n",
        "    base_model,\n",
        "    tf.keras.layers.MaxPooling2D(),\n",
        "    tf.keras.layers.Flatten(),\n",
        "    tf.keras.layers.Dense(102, activation=\"softmax\")\n",
        "])"
      ],
      "id": "rvvhHKH-jofG"
    },
    {
      "cell_type": "code",
      "execution_count": null,
      "metadata": {
        "id": "vNrveig2jofH",
        "outputId": "58d3a420-eeca-4d03-dcbb-1cba1f100954"
      },
      "outputs": [
        {
          "name": "stdout",
          "output_type": "stream",
          "text": [
            "Model: \"sequential\"\n",
            "_________________________________________________________________\n",
            " Layer (type)                Output Shape              Param #   \n",
            "=================================================================\n",
            " inception_v3 (Functional)   (None, 5, 5, 2048)        21802784  \n",
            "                                                                 \n",
            " max_pooling2d_4 (MaxPooling  (None, 2, 2, 2048)       0         \n",
            " 2D)                                                             \n",
            "                                                                 \n",
            " flatten (Flatten)           (None, 8192)              0         \n",
            "                                                                 \n",
            " dense (Dense)               (None, 102)               835686    \n",
            "                                                                 \n",
            "=================================================================\n",
            "Total params: 22,638,470\n",
            "Trainable params: 835,686\n",
            "Non-trainable params: 21,802,784\n",
            "_________________________________________________________________\n"
          ]
        }
      ],
      "source": [
        "model.summary()"
      ],
      "id": "vNrveig2jofH"
    },
    {
      "cell_type": "markdown",
      "metadata": {
        "id": "brP6MAeMjofH"
      },
      "source": [
        "#### d. Train classifier layers on training data available for task"
      ],
      "id": "brP6MAeMjofH"
    },
    {
      "cell_type": "code",
      "execution_count": null,
      "metadata": {
        "id": "Gpf0OL0tjofH"
      },
      "outputs": [],
      "source": [
        "model.compile(optimizer=tf.keras.optimizers.Adam(learning_rate = 0.001),\n",
        "              loss = tf.keras.losses.CategoricalCrossentropy(),\n",
        "              metrics = [tf.keras.metrics.CategoricalAccuracy()])"
      ],
      "id": "Gpf0OL0tjofH"
    },
    {
      "cell_type": "code",
      "execution_count": null,
      "metadata": {
        "id": "37rNhZLMjofI"
      },
      "outputs": [],
      "source": [
        "model.fit(train, validation_data=valid, steps_per_epoch=20, epochs=50) #20,50"
      ],
      "id": "37rNhZLMjofI"
    },
    {
      "cell_type": "code",
      "execution_count": null,
      "metadata": {
        "id": "cwF3tylKjofI",
        "outputId": "62b471e8-9dd2-4288-c239-da7a54899da3"
      },
      "outputs": [
        {
          "data": {
            "image/png": "[encoded data removed]",
            "text/plain": [
              "<Figure size 432x288 with 1 Axes>"
            ]
          },
          "metadata": {
            "needs_background": "light"
          },
          "output_type": "display_data"
        }
      ],
      "source": [
        "# Visualise train / Valid Accuracy\n",
        "plt.plot(model.history.history[\"categorical_accuracy\"], c=\"r\", label=\"train_accuracy\")\n",
        "plt.plot(model.history.history[\"val_categorical_accuracy\"], c=\"b\", label=\"test_accuracy\")\n",
        "plt.legend(loc=\"upper left\")\n",
        "plt.show()"
      ],
      "id": "cwF3tylKjofI"
    },
    {
      "cell_type": "markdown",
      "metadata": {
        "id": "ZRXyEm_QjofI"
      },
      "source": [
        "#### e. Fine-tune hyper parameters and unfreeze more layers as needed"
      ],
      "id": "ZRXyEm_QjofI"
    },
    {
      "cell_type": "code",
      "execution_count": null,
      "metadata": {
        "id": "6iP5VTF0jofI"
      },
      "outputs": [],
      "source": [
        "base_model.trainable = True\n",
        "\n",
        "model.compile(optimizer=tf.keras.optimizers.Adam(learning_rate = 0.001),\n",
        "              loss = tf.keras.losses.CategoricalCrossentropy(),\n",
        "              metrics = [tf.keras.metrics.CategoricalAccuracy()])"
      ],
      "id": "6iP5VTF0jofI"
    },
    {
      "cell_type": "code",
      "execution_count": null,
      "metadata": {
        "id": "HDBvCb1cjofI",
        "outputId": "2fe195ae-4dcb-401b-8150-641825a5d1ba"
      },
      "outputs": [
        {
          "name": "stdout",
          "output_type": "stream",
          "text": [
            "Epoch 1/50\n",
            "20/20 [==============================] - 474s 24s/step - loss: 3.9578 - categorical_accuracy: 0.4359 - val_loss: 126.2205 - val_categorical_accuracy: 0.0163\n",
            "Epoch 2/50\n",
            "20/20 [==============================] - 466s 24s/step - loss: 3.9319 - categorical_accuracy: 0.2875 - val_loss: 13552.6338 - val_categorical_accuracy: 0.0481\n",
            "Epoch 3/50\n",
            "20/20 [==============================] - 462s 24s/step - loss: 3.5396 - categorical_accuracy: 0.3250 - val_loss: 65.9670 - val_categorical_accuracy: 0.0663\n",
            "Epoch 4/50\n",
            "20/20 [==============================] - 461s 24s/step - loss: 3.1368 - categorical_accuracy: 0.3812 - val_loss: 62.4981 - val_categorical_accuracy: 0.0722\n",
            "Epoch 5/50\n",
            "20/20 [==============================] - 463s 24s/step - loss: 2.8024 - categorical_accuracy: 0.4109 - val_loss: 4.9331 - val_categorical_accuracy: 0.2341\n",
            "Epoch 6/50\n",
            "20/20 [==============================] - 457s 23s/step - loss: 2.5176 - categorical_accuracy: 0.4328 - val_loss: 4.8107 - val_categorical_accuracy: 0.2370\n",
            "Epoch 7/50\n",
            "20/20 [==============================] - 459s 23s/step - loss: 2.0832 - categorical_accuracy: 0.5250 - val_loss: 3.3150 - val_categorical_accuracy: 0.4315\n",
            "Epoch 8/50\n",
            "20/20 [==============================] - 458s 24s/step - loss: 1.6358 - categorical_accuracy: 0.6047 - val_loss: 2.4610 - val_categorical_accuracy: 0.4459\n",
            "Epoch 9/50\n",
            "20/20 [==============================] - 460s 24s/step - loss: 1.6275 - categorical_accuracy: 0.5953 - val_loss: 2.1677 - val_categorical_accuracy: 0.5081\n",
            "Epoch 10/50\n",
            "20/20 [==============================] - ETA: 0s - loss: 1.6000 - categorical_accuracy: 0.5938 "
          ]
        }
      ],
      "source": [
        "model.fit(img_generator_flow_train, validation_data=img_generator_flow_valid, steps_per_epoch=20, epochs=50) #20,50"
      ],
      "id": "HDBvCb1cjofI"
    },
    {
      "cell_type": "code",
      "execution_count": null,
      "metadata": {
        "id": "fqeKxddwjofJ"
      },
      "outputs": [],
      "source": [],
      "id": "fqeKxddwjofJ"
    }
  ],
  "metadata": {
    "kernelspec": {
      "display_name": "Python 3 (ipykernel)",
      "language": "python",
      "name": "python3"
    },
    "language_info": {
      "codemirror_mode": {
        "name": "ipython",
        "version": 3
      },
      "file_extension": ".py",
      "mimetype": "text/x-python",
      "name": "python",
      "nbconvert_exporter": "python",
      "pygments_lexer": "ipython3",
      "version": "3.7.3"
    },
    "colab": {
      "provenance": []
    }
  },
  "nbformat": 4,
  "nbformat_minor": 5
}
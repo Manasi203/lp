{
  "nbformat": 4,
  "nbformat_minor": 0,
  "metadata": {
    "colab": {
      "private_outputs": true,
      "provenance": []
    },
    "kernelspec": {
      "name": "python3",
      "display_name": "Python 3"
    },
    "language_info": {
      "name": "python"
    }
  },
  "cells": [
    {
      "cell_type": "code",
      "execution_count": null,
      "metadata": {
        "id": "dRyS8P6qKvlN"
      },
      "outputs": [],
      "source": [
        "import pandas as pd\n",
        "import numpy as np\n",
        "import matplotlib.pyplot as plt\n",
        "import tensorflow as tf\n",
        "from keras.layers import Dense\n",
        "from keras.datasets import mnist\n",
        "from keras.optimizers import SGD\n",
        "from keras.models import Sequential\n",
        "from sklearn.preprocessing import LabelBinarizer"
      ]
    },
    {
      "cell_type": "code",
      "source": [
        "((xtrain,ytrain),(xtest,ytest))=mnist.load_data()"
      ],
      "metadata": {
        "id": "mo52rXhFLH7k"
      },
      "execution_count": null,
      "outputs": []
    },
    {
      "cell_type": "code",
      "source": [
        "xtrain=xtrain.reshape((xtrain.shape[0],28*28*1))\n",
        "xtest=xtest.reshape((xtest.shape[0],28*28*1))\n",
        "xtest,xtrain=xtest/255,xtrain/255"
      ],
      "metadata": {
        "id": "EmqrLmT6LH-8"
      },
      "execution_count": null,
      "outputs": []
    },
    {
      "cell_type": "code",
      "source": [
        "lb=LabelBinarizer()\n",
        "ytrain=lb.fit_transform(ytrain.copy())\n",
        "ytest=lb.fit_transform(ytest.copy())"
      ],
      "metadata": {
        "id": "q_HBEoHuLk2i"
      },
      "execution_count": null,
      "outputs": []
    },
    {
      "cell_type": "code",
      "source": [
        "xtrain.shape"
      ],
      "metadata": {
        "id": "whg6LbewLk4t"
      },
      "execution_count": null,
      "outputs": []
    },
    {
      "cell_type": "code",
      "source": [
        "model=Sequential()\n",
        "model.add(Dense(128,activation='sigmoid',input_shape=(784,)))\n",
        "model.add(Dense(64,activation='sigmoid'))\n",
        "model.add(Dense(10,activation='softmax'))"
      ],
      "metadata": {
        "id": "-AOWAEJULk6g"
      },
      "execution_count": null,
      "outputs": []
    },
    {
      "cell_type": "code",
      "source": [
        "model.summary()"
      ],
      "metadata": {
        "id": "9e1f0T9_MHwd"
      },
      "execution_count": null,
      "outputs": []
    },
    {
      "cell_type": "code",
      "source": [
        "epochs=10\n",
        "sgd=SGD(0.01)\n",
        "model.compile(loss='categorical_crossentropy',metrics=['accuracy'],optimizer=sgd)"
      ],
      "metadata": {
        "id": "M7ZkSFVlMHz-"
      },
      "execution_count": null,
      "outputs": []
    },
    {
      "cell_type": "code",
      "source": [
        "h=model.fit(\n",
        "    xtrain,ytrain,epochs=epochs,validation_data=(xtest,ytest),batch_size=128\n",
        ")"
      ],
      "metadata": {
        "id": "th9zh1qULk-H"
      },
      "execution_count": null,
      "outputs": []
    },
    {
      "cell_type": "code",
      "source": [
        "from sklearn.metrics import classification_report"
      ],
      "metadata": {
        "id": "3-ErZOYAMwoU"
      },
      "execution_count": null,
      "outputs": []
    },
    {
      "cell_type": "code",
      "source": [
        "predictions=model.predict(xtest,batch_size=128)"
      ],
      "metadata": {
        "id": "bZ3RuuoMM8AR"
      },
      "execution_count": null,
      "outputs": []
    },
    {
      "cell_type": "code",
      "source": [
        "print(classification_report(ytest.argmax(axis=1),predictions.argmax(axis=1),target_names=[str(x) for x in lb.classes_]))"
      ],
      "metadata": {
        "id": "9tXzvc82NKvL"
      },
      "execution_count": null,
      "outputs": []
    },
    {
      "cell_type": "code",
      "source": [
        "plt.figure()\n",
        "plt.plot(h.history['loss'],label='loss')\n",
        "plt.plot(h.history['accuracy'],label='accuracy')\n",
        "plt.plot(h.history['val_loss'])\n",
        "plt.xlabel('epochs')\n",
        "plt.ylabel('accuracy/loss')\n",
        "plt.legend()\n",
        "plt.plot()\n"
      ],
      "metadata": {
        "id": "Qm56vFaQNh2V"
      },
      "execution_count": null,
      "outputs": []
    },
    {
      "cell_type": "code",
      "source": [],
      "metadata": {
        "id": "ufQntzdSNh8n"
      },
      "execution_count": null,
      "outputs": []
    },
    {
      "cell_type": "code",
      "source": [],
      "metadata": {
        "id": "n-IvOLudNiBP"
      },
      "execution_count": null,
      "outputs": []
    }
  ]
}